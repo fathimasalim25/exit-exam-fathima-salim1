{
 "cells": [
  {
   "cell_type": "code",
   "execution_count": 17,
   "id": "52c78325-3ada-445f-b6a4-f9291778cbaf",
   "metadata": {},
   "outputs": [],
   "source": [
    "import numpy as numpy\n",
    "import pandas as pd"
   ]
  },
  {
   "cell_type": "code",
   "execution_count": 28,
   "id": "414bfa98-5486-4f69-bbf9-d165b4de3256",
   "metadata": {},
   "outputs": [],
   "source": [
    "df=pd.read_excel(r'Downloads/dataset1.xlsx')"
   ]
  },
  {
   "cell_type": "code",
   "execution_count": 29,
   "id": "fea7c395-690f-4f37-a059-df2ad9f492d1",
   "metadata": {},
   "outputs": [
    {
     "data": {
      "text/html": [
       "<div>\n",
       "<style scoped>\n",
       "    .dataframe tbody tr th:only-of-type {\n",
       "        vertical-align: middle;\n",
       "    }\n",
       "\n",
       "    .dataframe tbody tr th {\n",
       "        vertical-align: top;\n",
       "    }\n",
       "\n",
       "    .dataframe thead th {\n",
       "        text-align: right;\n",
       "    }\n",
       "</style>\n",
       "<table border=\"1\" class=\"dataframe\">\n",
       "  <thead>\n",
       "    <tr style=\"text-align: right;\">\n",
       "      <th></th>\n",
       "      <th>age</th>\n",
       "      <th>workclass</th>\n",
       "      <th>fnlwgt</th>\n",
       "      <th>education</th>\n",
       "      <th>education-num</th>\n",
       "      <th>marital-status</th>\n",
       "      <th>occupation</th>\n",
       "      <th>relationship</th>\n",
       "      <th>race</th>\n",
       "      <th>sex</th>\n",
       "      <th>capital-gain</th>\n",
       "      <th>capital-loss</th>\n",
       "      <th>hours-per-week</th>\n",
       "      <th>native-country</th>\n",
       "      <th>salary</th>\n",
       "    </tr>\n",
       "  </thead>\n",
       "  <tbody>\n",
       "    <tr>\n",
       "      <th>0</th>\n",
       "      <td>39</td>\n",
       "      <td>State-gov</td>\n",
       "      <td>77516</td>\n",
       "      <td>Bachelors</td>\n",
       "      <td>13</td>\n",
       "      <td>Never-married</td>\n",
       "      <td>Adm-clerical</td>\n",
       "      <td>Not-in-family</td>\n",
       "      <td>White</td>\n",
       "      <td>Male</td>\n",
       "      <td>2174</td>\n",
       "      <td>0</td>\n",
       "      <td>40</td>\n",
       "      <td>United-States</td>\n",
       "      <td>&lt;=50K</td>\n",
       "    </tr>\n",
       "    <tr>\n",
       "      <th>1</th>\n",
       "      <td>50</td>\n",
       "      <td>Self-emp-not-inc</td>\n",
       "      <td>83311</td>\n",
       "      <td>Bachelors</td>\n",
       "      <td>13</td>\n",
       "      <td>Married-civ-spouse</td>\n",
       "      <td>Exec-managerial</td>\n",
       "      <td>Husband</td>\n",
       "      <td>White</td>\n",
       "      <td>Male</td>\n",
       "      <td>0</td>\n",
       "      <td>0</td>\n",
       "      <td>13</td>\n",
       "      <td>United-States</td>\n",
       "      <td>&lt;=50K</td>\n",
       "    </tr>\n",
       "    <tr>\n",
       "      <th>2</th>\n",
       "      <td>38</td>\n",
       "      <td>Private</td>\n",
       "      <td>215646</td>\n",
       "      <td>HS-grad</td>\n",
       "      <td>9</td>\n",
       "      <td>Divorced</td>\n",
       "      <td>Handlers-cleaners</td>\n",
       "      <td>Not-in-family</td>\n",
       "      <td>White</td>\n",
       "      <td>Male</td>\n",
       "      <td>0</td>\n",
       "      <td>0</td>\n",
       "      <td>40</td>\n",
       "      <td>United-States</td>\n",
       "      <td>&lt;=50K</td>\n",
       "    </tr>\n",
       "    <tr>\n",
       "      <th>3</th>\n",
       "      <td>53</td>\n",
       "      <td>Private</td>\n",
       "      <td>234721</td>\n",
       "      <td>11th</td>\n",
       "      <td>7</td>\n",
       "      <td>Married-civ-spouse</td>\n",
       "      <td>Handlers-cleaners</td>\n",
       "      <td>Husband</td>\n",
       "      <td>Black</td>\n",
       "      <td>Male</td>\n",
       "      <td>0</td>\n",
       "      <td>0</td>\n",
       "      <td>40</td>\n",
       "      <td>United-States</td>\n",
       "      <td>&lt;=50K</td>\n",
       "    </tr>\n",
       "    <tr>\n",
       "      <th>4</th>\n",
       "      <td>28</td>\n",
       "      <td>Private</td>\n",
       "      <td>338409</td>\n",
       "      <td>Bachelors</td>\n",
       "      <td>13</td>\n",
       "      <td>Married-civ-spouse</td>\n",
       "      <td>Prof-specialty</td>\n",
       "      <td>Wife</td>\n",
       "      <td>Black</td>\n",
       "      <td>Female</td>\n",
       "      <td>0</td>\n",
       "      <td>0</td>\n",
       "      <td>40</td>\n",
       "      <td>Cuba</td>\n",
       "      <td>&lt;=50K</td>\n",
       "    </tr>\n",
       "  </tbody>\n",
       "</table>\n",
       "</div>"
      ],
      "text/plain": [
       "   age         workclass  fnlwgt  education  education-num  \\\n",
       "0   39         State-gov   77516  Bachelors             13   \n",
       "1   50  Self-emp-not-inc   83311  Bachelors             13   \n",
       "2   38           Private  215646    HS-grad              9   \n",
       "3   53           Private  234721       11th              7   \n",
       "4   28           Private  338409  Bachelors             13   \n",
       "\n",
       "       marital-status         occupation   relationship   race     sex  \\\n",
       "0       Never-married       Adm-clerical  Not-in-family  White    Male   \n",
       "1  Married-civ-spouse    Exec-managerial        Husband  White    Male   \n",
       "2            Divorced  Handlers-cleaners  Not-in-family  White    Male   \n",
       "3  Married-civ-spouse  Handlers-cleaners        Husband  Black    Male   \n",
       "4  Married-civ-spouse     Prof-specialty           Wife  Black  Female   \n",
       "\n",
       "   capital-gain  capital-loss  hours-per-week native-country salary  \n",
       "0          2174             0              40  United-States  <=50K  \n",
       "1             0             0              13  United-States  <=50K  \n",
       "2             0             0              40  United-States  <=50K  \n",
       "3             0             0              40  United-States  <=50K  \n",
       "4             0             0              40           Cuba  <=50K  "
      ]
     },
     "execution_count": 29,
     "metadata": {},
     "output_type": "execute_result"
    }
   ],
   "source": [
    "df.head()"
   ]
  },
  {
   "cell_type": "code",
   "execution_count": 30,
   "id": "e67a8b08-0aad-4a46-bc81-323fc1ff0bc8",
   "metadata": {},
   "outputs": [
    {
     "data": {
      "text/plain": [
       "(32561, 15)"
      ]
     },
     "execution_count": 30,
     "metadata": {},
     "output_type": "execute_result"
    }
   ],
   "source": [
    "df.shape"
   ]
  },
  {
   "cell_type": "code",
   "execution_count": 27,
   "id": "935789c8-4ccd-4986-baa4-7e335fe44371",
   "metadata": {},
   "outputs": [
    {
     "name": "stdout",
     "output_type": "stream",
     "text": [
      "<class 'pandas.core.frame.DataFrame'>\n",
      "RangeIndex: 32561 entries, 0 to 32560\n",
      "Data columns (total 15 columns):\n",
      " #   Column          Non-Null Count  Dtype \n",
      "---  ------          --------------  ----- \n",
      " 0   age             32561 non-null  int64 \n",
      " 1   workclass       32561 non-null  object\n",
      " 2   fnlwgt          32561 non-null  int64 \n",
      " 3   education       32561 non-null  object\n",
      " 4   education-num   32561 non-null  int64 \n",
      " 5   marital-status  32561 non-null  object\n",
      " 6   occupation      32561 non-null  object\n",
      " 7   relationship    32561 non-null  object\n",
      " 8   race            32561 non-null  object\n",
      " 9   sex             32561 non-null  object\n",
      " 10  capital-gain    32561 non-null  int64 \n",
      " 11  capital-loss    32561 non-null  int64 \n",
      " 12  hours-per-week  32561 non-null  int64 \n",
      " 13  native-country  32561 non-null  object\n",
      " 14  salary          32561 non-null  object\n",
      "dtypes: int64(6), object(9)\n",
      "memory usage: 3.7+ MB\n"
     ]
    }
   ],
   "source": [
    "df.info()"
   ]
  },
  {
   "cell_type": "code",
   "execution_count": 50,
   "id": "83f0ff2f-e281-4d18-83ca-aa9cc42085f5",
   "metadata": {},
   "outputs": [],
   "source": [
    "#1.\tCalculate the mean, median, and standard deviation of the \"age\" and \"hours-per-week\" columns. What do these values suggest about the distribution of ages and working hours in the dataset?"
   ]
  },
  {
   "cell_type": "code",
   "execution_count": 26,
   "id": "085db7cb-eff2-40be-bdae-0ea4a915fcc5",
   "metadata": {},
   "outputs": [
    {
     "name": "stdout",
     "output_type": "stream",
     "text": [
      "Age - Mean: 38.58164675532078 Median: 37.0 Standard Deviation: 13.640432553581146\n",
      "Hours per Week - Mean: 40.437455852092995 Median: 40.0 Standard Deviation: 12.34742868173081\n"
     ]
    }
   ],
   "source": [
    "age_mean = df[\"age\"].mean()\n",
    "age_median = df[\"age\"].median()\n",
    "age_std = df[\"age\"].std()\n",
    "hours_mean = df[\"hours-per-week\"].mean()\n",
    "hours_median = df[\"hours-per-week\"].median()\n",
    "hours_std = df[\"hours-per-week\"].std()\n",
    "print(\"Age - Mean:\", age_mean, \"Median:\", age_median, \"Standard Deviation:\", age_std)\n",
    "print(\"Hours per Week - Mean:\", hours_mean, \"Median:\", hours_median, \"Standard Deviation:\", hours_std)"
   ]
  },
  {
   "cell_type": "code",
   "execution_count": 22,
   "id": "14677cc6-fb4e-4111-83ac-5ce75dfc58ed",
   "metadata": {},
   "outputs": [
    {
     "data": {
      "text/plain": [
       "age               0\n",
       "workclass         0\n",
       "fnlwgt            0\n",
       "education         0\n",
       "education-num     0\n",
       "marital-status    0\n",
       "occupation        0\n",
       "relationship      0\n",
       "race              0\n",
       "sex               0\n",
       "capital-gain      0\n",
       "capital-loss      0\n",
       "hours-per-week    0\n",
       "native-country    0\n",
       "salary            0\n",
       "dtype: int64"
      ]
     },
     "execution_count": 22,
     "metadata": {},
     "output_type": "execute_result"
    }
   ],
   "source": [
    "df.isna().sum()"
   ]
  },
  {
   "cell_type": "code",
   "execution_count": 52,
   "id": "6c2978d8-9b27-4268-aa14-0fcdf2e893cd",
   "metadata": {},
   "outputs": [],
   "source": [
    "#2.\tFind the distribution of individuals across different \"workclass.\" Which workclass category is the most common?"
   ]
  },
  {
   "cell_type": "code",
   "execution_count": 54,
   "id": "becff9d7-9cae-4002-81a9-055b7eeec9c9",
   "metadata": {},
   "outputs": [
    {
     "name": "stdout",
     "output_type": "stream",
     "text": [
      "Distribution of individuals across workclass categories:\n",
      "<bound method IndexOpsMixin.value_counts of 0               State-gov\n",
      "1        Self-emp-not-inc\n",
      "2                 Private\n",
      "3                 Private\n",
      "4                 Private\n",
      "               ...       \n",
      "32556             Private\n",
      "32557             Private\n",
      "32558             Private\n",
      "32559             Private\n",
      "32560        Self-emp-inc\n",
      "Name: workclass, Length: 32561, dtype: object>\n"
     ]
    },
    {
     "ename": "AttributeError",
     "evalue": "'function' object has no attribute 'max'",
     "output_type": "error",
     "traceback": [
      "\u001b[1;31m---------------------------------------------------------------------------\u001b[0m",
      "\u001b[1;31mAttributeError\u001b[0m                            Traceback (most recent call last)",
      "Cell \u001b[1;32mIn[54], line 4\u001b[0m\n\u001b[0;32m      2\u001b[0m \u001b[38;5;28mprint\u001b[39m(\u001b[38;5;124m\"\u001b[39m\u001b[38;5;124mDistribution of individuals across workclass categories:\u001b[39m\u001b[38;5;124m\"\u001b[39m)\n\u001b[0;32m      3\u001b[0m \u001b[38;5;28mprint\u001b[39m(workclass_counts)\n\u001b[1;32m----> 4\u001b[0m most_common_workclass \u001b[38;5;241m=\u001b[39m workclass_counts\u001b[38;5;241m.\u001b[39mmax()\n\u001b[0;32m      5\u001b[0m most_common_count \u001b[38;5;241m=\u001b[39m workclass_counts\u001b[38;5;241m.\u001b[39mmax()\n\u001b[0;32m      6\u001b[0m \u001b[38;5;28mprint\u001b[39m(\u001b[38;5;124m\"\u001b[39m\u001b[38;5;130;01m\\n\u001b[39;00m\u001b[38;5;124mMost common workclass category:\u001b[39m\u001b[38;5;124m\"\u001b[39m, most_common_workclass)\n",
      "\u001b[1;31mAttributeError\u001b[0m: 'function' object has no attribute 'max'"
     ]
    }
   ],
   "source": [
    "workclass_counts = df[\"workclass\"].value_counts\n",
    "print(\"Distribution of individuals across workclass categories:\")\n",
    "print(workclass_counts)\n",
    "most_common_workclass = workclass_counts.max()\n",
    "most_common_count = workclass_counts.max()\n",
    "print(\"\\nMost common workclass category:\", most_common_workclass)\n",
    "print(\"Number of individuals in the most common category:\", most_common_count)"
   ]
  },
  {
   "cell_type": "code",
   "execution_count": 54,
   "id": "f85f3e50-8f93-4b3b-8412-aa2d62e2e4d5",
   "metadata": {},
   "outputs": [],
   "source": [
    "#4.\tHow many unique \"native-country\" values are there in the dataset? Which country has the most individuals represented?"
   ]
  },
  {
   "cell_type": "code",
   "execution_count": 48,
   "id": "d78ecc65-a694-4af2-8369-632f82872e70",
   "metadata": {},
   "outputs": [
    {
     "data": {
      "text/plain": [
       "array(['United-States', 'Cuba', 'Jamaica', 'India', '?', 'Mexico',\n",
       "       'South', 'Puerto-Rico', 'Honduras', 'England', 'Canada', 'Germany',\n",
       "       'Iran', 'Philippines', 'Italy', 'Poland', 'Columbia', 'Cambodia',\n",
       "       'Thailand', 'Ecuador', 'Laos', 'Taiwan', 'Haiti', 'Portugal',\n",
       "       'Dominican-Republic', 'El-Salvador', 'France', 'Guatemala',\n",
       "       'China', 'Japan', 'Yugoslavia', 'Peru',\n",
       "       'Outlying-US(Guam-USVI-etc)', 'Scotland', 'Trinadad&Tobago',\n",
       "       'Greece', 'Nicaragua', 'Vietnam', 'Hong', 'Ireland', 'Hungary',\n",
       "       'Holand-Netherlands'], dtype=object)"
      ]
     },
     "execution_count": 48,
     "metadata": {},
     "output_type": "execute_result"
    }
   ],
   "source": [
    "df['native-country'].unique()"
   ]
  },
  {
   "cell_type": "code",
   "execution_count": 56,
   "id": "0852c228-58bd-4abf-b052-cad1bfbfbcc3",
   "metadata": {},
   "outputs": [],
   "source": [
    "#3.\tAnalyze the frequency distribution of \"education\" levels. What is the most common education level, and how does it correlate with \"salary\" (<=50K or >50K)?"
   ]
  },
  {
   "cell_type": "code",
   "execution_count": 46,
   "id": "86fc4ce7-c202-4f5d-8fe4-31887b42414c",
   "metadata": {},
   "outputs": [
    {
     "name": "stdout",
     "output_type": "stream",
     "text": [
      "Distribution of education levels:\n",
      "education\n",
      "HS-grad         10501\n",
      "Some-college     7291\n",
      "Bachelors        5355\n",
      "Masters          1723\n",
      "Assoc-voc        1382\n",
      "11th             1175\n",
      "Assoc-acdm       1067\n",
      "10th              933\n",
      "7th-8th           646\n",
      "Prof-school       576\n",
      "9th               514\n",
      "12th              433\n",
      "Doctorate         413\n",
      "5th-6th           333\n",
      "1st-4th           168\n",
      "Preschool          51\n",
      "Name: count, dtype: int64\n",
      "\n",
      "Most common education level: HS-grad\n",
      "Number of individuals in the most common education level: 10501\n",
      "\n",
      "Correlation between education level and salary:\n",
      "salary         <=50K    >50K\n",
      "education                   \n",
      "10th           871.0    62.0\n",
      "11th          1115.0    60.0\n",
      "12th           400.0    33.0\n",
      "1st-4th        162.0     6.0\n",
      "5th-6th        317.0    16.0\n",
      "7th-8th        606.0    40.0\n",
      "9th            487.0    27.0\n",
      "Assoc-acdm     802.0   265.0\n",
      "Assoc-voc     1021.0   361.0\n",
      "Bachelors     3134.0  2221.0\n",
      "Doctorate      107.0   306.0\n",
      "HS-grad       8826.0  1675.0\n",
      "Masters        764.0   959.0\n",
      "Preschool       51.0     NaN\n",
      "Prof-school    153.0   423.0\n",
      "Some-college  5904.0  1387.0\n"
     ]
    }
   ],
   "source": [
    "education_counts = df[\"education\"].value_counts()\n",
    "\n",
    "print(\"Distribution of education levels:\")\n",
    "print(education_counts)\n",
    "\n",
    "most_common_education = education_counts.idxmax()\n",
    "most_common_education_count = education_counts.max()\n",
    "\n",
    "print(\"\\nMost common education level:\", most_common_education)\n",
    "print(\"Number of individuals in the most common education level:\", most_common_education_count)\n",
    "education_salary_correlation = df.groupby([\"education\", \"salary\"]).size().unstack()\n",
    "\n",
    "# Display the correlation between education level and salary\n",
    "print(\"\\nCorrelation between education level and salary:\")\n",
    "print(education_salary_correlation)\n"
   ]
  },
  {
   "cell_type": "code",
   "execution_count": 58,
   "id": "a404558f-d249-44a0-b1a0-4e5e685e7976",
   "metadata": {},
   "outputs": [],
   "source": [
    "#8.\tAnalyze the \"hours-per-week\" distribution for different \"occupation\" categories. Which occupations tend to have longer working hours?"
   ]
  },
  {
   "cell_type": "code",
   "execution_count": 80,
   "id": "e63368fc-9dd8-472c-ac7d-1675429c81ba",
   "metadata": {},
   "outputs": [
    {
     "name": "stdout",
     "output_type": "stream",
     "text": [
      "Hours-per-week distribution for different occupations:\n",
      "                        mean  median  max\n",
      "occupation                               \n",
      "Farming-fishing    46.989940    40.0   99\n",
      "Exec-managerial    44.987703    40.0   99\n",
      "Transport-moving   44.656230    40.0   99\n",
      "Protective-serv    42.870570    40.0   99\n",
      "Prof-specialty     42.386715    40.0   99\n",
      "Craft-repair       42.304221    40.0   99\n",
      "Sales              40.781096    40.0   99\n",
      "Machine-op-inspct  40.755744    40.0   96\n",
      "Armed-Forces       40.666667    40.0   60\n",
      "Tech-support       39.432112    40.0   99\n",
      "Handlers-cleaners  37.947445    40.0   95\n",
      "Adm-clerical       37.558355    40.0   80\n",
      "Other-service      34.701669    40.0   99\n",
      "Priv-house-serv    32.885906    35.0   99\n",
      "?                  31.906131    36.0   99\n",
      "\n",
      "Occupations with the longest working hours (average):\n",
      "                       mean  median  max\n",
      "occupation                              \n",
      "Farming-fishing   46.989940    40.0   99\n",
      "Exec-managerial   44.987703    40.0   99\n",
      "Transport-moving  44.656230    40.0   99\n",
      "Protective-serv   42.870570    40.0   99\n",
      "Prof-specialty    42.386715    40.0   99\n"
     ]
    }
   ],
   "source": [
    "occupation_hours = df.groupby(\"occupation\")[\"hours-per-week\"].agg([\"mean\", \"median\", \"max\"]).sort_values(by=\"mean\", ascending=False)\n",
    "\n",
    "print(\"Hours-per-week distribution for different occupations:\")\n",
    "print(occupation_hours)\n",
    "\n",
    "longest_working_hours = occupation_hours.head(5)  # Top 5 occupations with longest average working hours\n",
    "print(\"\\nOccupations with the longest working hours (average):\")\n",
    "print(longest_working_hours)\n"
   ]
  },
  {
   "cell_type": "code",
   "execution_count": 82,
   "id": "0e28f2da-e82d-41b9-812a-d4f512f174fc",
   "metadata": {},
   "outputs": [],
   "source": [
    "#9.\tInvestigate if there is a significant difference in \"hours-per-week\" between males and females."
   ]
  },
  {
   "cell_type": "code",
   "execution_count": 88,
   "id": "db018895-7b91-4849-8201-aceaa78996de",
   "metadata": {},
   "outputs": [
    {
     "name": "stdout",
     "output_type": "stream",
     "text": [
      "Average hours-per-week by gender:\n",
      "             mean        std  count\n",
      "sex                                \n",
      "Female  36.410361  11.811300  10771\n",
      "Male    42.428086  12.119755  21790\n",
      "\n",
      "T-test results:\n",
      "t-statistic: 42.88195043740648\n",
      "p-value: 0.0\n"
     ]
    }
   ],
   "source": [
    "import scipy.stats as stats\n",
    "\n",
    "gender_hours = df.groupby(\"sex\")[\"hours-per-week\"].agg([\"mean\", \"std\", \"count\"])\n",
    "\n",
    "print(\"Average hours-per-week by gender:\")\n",
    "print(gender_hours)\n",
    "male_hours = df[df[\"sex\"] == \"Male\"][\"hours-per-week\"]\n",
    "female_hours = df[df[\"sex\"] == \"Female\"][\"hours-per-week\"]\n",
    "t_stat, p_value = stats.ttest_ind(male_hours, female_hours, equal_var=False)\n",
    "print(\"\\nT-test results:\")\n",
    "print(\"t-statistic:\", t_stat)\n",
    "print(\"p-value:\", p_value)"
   ]
  },
  {
   "cell_type": "code",
   "execution_count": null,
   "id": "10b305a3-0043-42ba-a59a-eaef4b812b55",
   "metadata": {},
   "outputs": [],
   "source": []
  }
 ],
 "metadata": {
  "kernelspec": {
   "display_name": "Python 3 (ipykernel)",
   "language": "python",
   "name": "python3"
  },
  "language_info": {
   "codemirror_mode": {
    "name": "ipython",
    "version": 3
   },
   "file_extension": ".py",
   "mimetype": "text/x-python",
   "name": "python",
   "nbconvert_exporter": "python",
   "pygments_lexer": "ipython3",
   "version": "3.12.4"
  }
 },
 "nbformat": 4,
 "nbformat_minor": 5
}
